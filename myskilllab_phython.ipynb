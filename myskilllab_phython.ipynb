{
  "nbformat": 4,
  "nbformat_minor": 0,
  "metadata": {
    "colab": {
      "provenance": []
    },
    "kernelspec": {
      "name": "python3",
      "display_name": "Python 3"
    },
    "language_info": {
      "name": "python"
    }
  },
  "cells": [
    {
      "cell_type": "code",
      "execution_count": 1,
      "metadata": {
        "colab": {
          "base_uri": "https://localhost:8080/"
        },
        "id": "Dtx5Injnawn_",
        "outputId": "21780aa1-a5a2-4917-f431-08f8c71af11e"
      },
      "outputs": [
        {
          "output_type": "stream",
          "name": "stdout",
          "text": [
            "Enter your name: veenaumesh\n",
            "Hello, veenaumesh!\n"
          ]
        }
      ],
      "source": [
        "def greet(name):\n",
        "    if name:\n",
        "        print(f\"Hello, {name}!\")\n",
        "    else:\n",
        "        print(\"Hello, Guest!\")\n",
        "\n",
        "def main():\n",
        "    user_name = input(\"Enter your name: \")\n",
        "    greet(user_name)\n",
        "\n",
        "if __name__ == \"__main__\":\n",
        "    main()\n"
      ]
    }
  ]
}